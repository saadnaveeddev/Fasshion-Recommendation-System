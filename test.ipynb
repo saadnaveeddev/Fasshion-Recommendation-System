{
 "cells": [
  {
   "cell_type": "code",
   "execution_count": 1,
   "id": "c12c19e1-44bc-488f-9162-08ad798b6d8e",
   "metadata": {},
   "outputs": [],
   "source": [
    "import pickle\n",
    "import numpy as np\n",
    "from tensorflow.keras.preprocessing import image\n",
    "from tensorflow.keras.applications.resnet50 import ResNet50, preprocess_input\n",
    "from tensorflow.keras.layers import GlobalMaxPooling2D\n",
    "from tensorflow.keras.models import Sequential\n",
    "from numpy.linalg import norm\n",
    "from sklearn.neighbors import NearestNeighbors\n",
    "import cv2"
   ]
  },
  {
   "cell_type": "code",
   "execution_count": 2,
   "id": "2a037935-1798-4fa2-8a2c-2115a1103a8e",
   "metadata": {},
   "outputs": [
    {
     "name": "stdout",
     "output_type": "stream",
     "text": [
      "(361, 2048)\n"
     ]
    }
   ],
   "source": [
    "import joblib\n",
    "import numpy as np\n",
    "\n",
    "features_list = joblib.load(\"image_features_embedding.pkl\")\n",
    "img_files_list = joblib.load(\"img_files.pkl\")\n",
    "\n",
    "print(np.array(features_list).shape)\n"
   ]
  },
  {
   "cell_type": "code",
   "execution_count": 3,
   "id": "bb28dd16-c262-443d-b074-a51041cbc570",
   "metadata": {},
   "outputs": [
    {
     "name": "stdout",
     "output_type": "stream",
     "text": [
      "Downloading data from https://storage.googleapis.com/tensorflow/keras-applications/resnet/resnet50_weights_tf_dim_ordering_tf_kernels_notop.h5\n",
      "94765736/94765736 [==============================] - 95s 1us/step\n"
     ]
    }
   ],
   "source": [
    "\n",
    "\n",
    "model = ResNet50(weights=\"imagenet\", include_top=False, input_shape=(224, 224, 3))\n",
    "model.trainable = False\n",
    "\n",
    "model = Sequential([model, GlobalMaxPooling2D()])\n"
   ]
  },
  {
   "cell_type": "code",
   "execution_count": 8,
   "id": "bc6d8776-fc21-43fd-a85b-877c2ebf64fc",
   "metadata": {},
   "outputs": [
    {
     "name": "stdout",
     "output_type": "stream",
     "text": [
      "1/1 [==============================] - 0s 269ms/step\n"
     ]
    }
   ],
   "source": [
    "\n",
    "img = image.load_img('Shoes.jpg',target_size=(224,224))\n",
    "img_array = image.img_to_array(img)\n",
    "expanded_img_array = np.expand_dims(img_array, axis=0)\n",
    "preprocessed_img = preprocess_input(expanded_img_array)\n",
    "result = model.predict(preprocessed_img).flatten()"
   ]
  },
  {
   "cell_type": "code",
   "execution_count": 9,
   "id": "5284f7cd-365b-4ea2-8474-20bc1f0b3491",
   "metadata": {},
   "outputs": [
    {
     "name": "stdout",
     "output_type": "stream",
     "text": [
      "[[ 48  78 180 337 339  87]]\n"
     ]
    }
   ],
   "source": [
    "normalized_result = result / norm(result)\n",
    "\n",
    "neighbors = NearestNeighbors(n_neighbors=6,algorithm='brute',metric='euclidean')\n",
    "neighbors.fit(features_list)\n",
    "\n",
    "distances,indices = neighbors.kneighbors([normalized_result])\n",
    "\n",
    "print(indices)"
   ]
  },
  {
   "cell_type": "code",
   "execution_count": 10,
   "id": "d1dabe2b-0806-4091-b591-3b2125d02814",
   "metadata": {},
   "outputs": [
    {
     "name": "stdout",
     "output_type": "stream",
     "text": [
      "images/images/10093.jpg\n",
      "images/images/10089.jpg\n",
      "images/images/10161.jpg\n",
      "images/images/10081.jpg\n",
      "images/images/10111.jpg\n"
     ]
    }
   ],
   "source": [
    "for file in indices[0][1:6]:\n",
    "    print(img_files_list[file])\n"
   ]
  },
  {
   "cell_type": "code",
   "execution_count": 12,
   "id": "11e5792b-859a-4e8f-b302-938d6c5cc946",
   "metadata": {},
   "outputs": [
    {
     "ename": "error",
     "evalue": "OpenCV(4.7.0) D:\\a\\opencv-python\\opencv-python\\opencv\\modules\\imgproc\\src\\color.cpp:182: error: (-215:Assertion failed) !_src.empty() in function 'cv::cvtColor'\n",
     "output_type": "error",
     "traceback": [
      "\u001b[1;31m---------------------------------------------------------------------------\u001b[0m",
      "\u001b[1;31merror\u001b[0m                                     Traceback (most recent call last)",
      "\u001b[1;32m~\\AppData\\Local\\Temp\\ipykernel_11300\\1056964994.py\u001b[0m in \u001b[0;36m<module>\u001b[1;34m\u001b[0m\n\u001b[0;32m      7\u001b[0m \u001b[1;33m\u001b[0m\u001b[0m\n\u001b[0;32m      8\u001b[0m \u001b[1;31m# Display the image using matplotlib\u001b[0m\u001b[1;33m\u001b[0m\u001b[1;33m\u001b[0m\u001b[0m\n\u001b[1;32m----> 9\u001b[1;33m \u001b[0mplt\u001b[0m\u001b[1;33m.\u001b[0m\u001b[0mimshow\u001b[0m\u001b[1;33m(\u001b[0m\u001b[0mcv2\u001b[0m\u001b[1;33m.\u001b[0m\u001b[0mcvtColor\u001b[0m\u001b[1;33m(\u001b[0m\u001b[0mtmp_img\u001b[0m\u001b[1;33m,\u001b[0m \u001b[0mcv2\u001b[0m\u001b[1;33m.\u001b[0m\u001b[0mCOLOR_BGR2RGB\u001b[0m\u001b[1;33m)\u001b[0m\u001b[1;33m)\u001b[0m\u001b[1;33m\u001b[0m\u001b[1;33m\u001b[0m\u001b[0m\n\u001b[0m\u001b[0;32m     10\u001b[0m \u001b[0mplt\u001b[0m\u001b[1;33m.\u001b[0m\u001b[0maxis\u001b[0m\u001b[1;33m(\u001b[0m\u001b[1;34m'off'\u001b[0m\u001b[1;33m)\u001b[0m  \u001b[1;31m# Turn off axis labels and ticks\u001b[0m\u001b[1;33m\u001b[0m\u001b[1;33m\u001b[0m\u001b[0m\n\u001b[0;32m     11\u001b[0m \u001b[0mplt\u001b[0m\u001b[1;33m.\u001b[0m\u001b[0mshow\u001b[0m\u001b[1;33m(\u001b[0m\u001b[1;33m)\u001b[0m\u001b[1;33m\u001b[0m\u001b[1;33m\u001b[0m\u001b[0m\n",
      "\u001b[1;31merror\u001b[0m: OpenCV(4.7.0) D:\\a\\opencv-python\\opencv-python\\opencv\\modules\\imgproc\\src\\color.cpp:182: error: (-215:Assertion failed) !_src.empty() in function 'cv::cvtColor'\n"
     ]
    }
   ],
   "source": [
    "import cv2\n",
    "import matplotlib.pyplot as plt\n",
    "\n",
    "# Load and resize the image\n",
    "tmp_img = cv2.imread(img_files_list[file])\n",
    "#tmp_img = cv2.resize(tmp_img, (200, 200))\n",
    "\n",
    "# Display the image using matplotlib\n",
    "plt.imshow(cv2.cvtColor(tmp_img, cv2.COLOR_BGR2RGB))\n",
    "plt.axis('off')  # Turn off axis labels and ticks\n",
    "plt.show()\n"
   ]
  },
  {
   "cell_type": "code",
   "execution_count": null,
   "id": "7f0cc560-0a98-41fd-983f-678f5e231c07",
   "metadata": {},
   "outputs": [],
   "source": []
  },
  {
   "cell_type": "code",
   "execution_count": null,
   "id": "c5e18864-e8a9-4e84-9d8b-ef2818cdcf14",
   "metadata": {},
   "outputs": [],
   "source": []
  }
 ],
 "metadata": {
  "environment": {
   "kernel": "conda-root-py",
   "name": "workbench-notebooks.m110",
   "type": "gcloud",
   "uri": "gcr.io/deeplearning-platform-release/workbench-notebooks:m110"
  },
  "kernelspec": {
   "display_name": "base",
   "language": "python",
   "name": "python3"
  },
  "language_info": {
   "codemirror_mode": {
    "name": "ipython",
    "version": 3
   },
   "file_extension": ".py",
   "mimetype": "text/x-python",
   "name": "python",
   "nbconvert_exporter": "python",
   "pygments_lexer": "ipython3",
   "version": "3.9.13"
  }
 },
 "nbformat": 4,
 "nbformat_minor": 5
}
